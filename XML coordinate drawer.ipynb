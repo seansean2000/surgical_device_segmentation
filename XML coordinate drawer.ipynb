{
 "cells": [
  {
   "cell_type": "code",
   "execution_count": 1,
   "id": "9b9c0e42",
   "metadata": {},
   "outputs": [],
   "source": [
    "import xml.dom.minidom\n",
    "import os\n",
    "import glob\n",
    "import numpy as np\n",
    "import cv2"
   ]
  },
  {
   "cell_type": "code",
   "execution_count": 2,
   "id": "9d4075c9",
   "metadata": {},
   "outputs": [],
   "source": [
    "def handleXmlAnnotation(xmlAnnotationPath):\n",
    "\n",
    "    annotateDic = {'objects':[]}\n",
    "    \n",
    "    with xml.dom.minidom.parse(xmlAnnotationPath) as doc:\n",
    "        for obj in doc.getElementsByTagName(\"object\"):\n",
    "            annotateDic[\"objects\"].append(handleObjectTag(obj))\n",
    "        \n",
    "        annotateDic[\"folder\"] = doc.getElementsByTagName(\"folder\")[0].childNodes[0].data\n",
    "        annotateDic[\"filename\"] = doc.getElementsByTagName(\"filename\")[0].childNodes[0].data\n",
    "        annotateDic[\"path\"] = doc.getElementsByTagName(\"path\")[0].childNodes[0].data\n",
    "        \n",
    "    return annotateDic\n",
    "\n",
    "def handleObjectTag(objectElement):\n",
    "    dic = {}\n",
    "    dic[\"name\"] = objectElement.getElementsByTagName(\"name\")[0].childNodes[0].data\n",
    "    dic[\"id\"] = objectElement.getElementsByTagName(\"id\")[0].childNodes[0].data\n",
    "    dic[\"type\"] = objectElement.getElementsByTagName(\"type\")[0].childNodes[0].data\n",
    "    dic[\"clr\"] = objectElement.getElementsByTagName(\"clr\")[0].childNodes[0].data\n",
    "    dic[\"points\"] = getPoints(objectElement)\n",
    "    return dic\n",
    "\n",
    "def getPoints(objectElement):\n",
    "    points = []\n",
    "    for (x,y) in zip(objectElement.getElementsByTagName(\"points\")[0].getElementsByTagName(\"x\"), \n",
    "        objectElement.getElementsByTagName(\"points\")[0].getElementsByTagName(\"y\")):\n",
    "        points.append((float(x.childNodes[0].data), float(y.childNodes[0].data)))\n",
    "    \n",
    "    return points"
   ]
  },
  {
   "cell_type": "code",
   "execution_count": 3,
   "id": "cc102f20",
   "metadata": {},
   "outputs": [],
   "source": [
    "def handleFolder(folderPath, XMLarray):\n",
    "    for fileName in glob.glob(os.path.join(folderPath,'*.xml')):\n",
    "        XMLarray.append(handleXmlAnnotation(fileName))\n",
    "    \n",
    "    "
   ]
  },
  {
   "cell_type": "code",
   "execution_count": 4,
   "id": "3717aa21",
   "metadata": {},
   "outputs": [],
   "source": [

    "def drawOutLine (singleXML, originalimg, saveLocation, imgName):\n",
    "    for obj in singleXML[\"objects\"]:\n",
    "        ptsArray = []\n",
    "\n",
    "        for points in obj[\"points\"]:\n",
    "            ptsArray.append([int(points[0]), int(points[1])]) #points[0] = x coordinate, points[1] = y coordinate\n",
    "\n",
    "        ptsNumpy = np.array(ptsArray)\n",
    "        ptsNumpy = ptsNumpy.reshape((-1,1,2))\n",
    "        cv2.polylines(originalimg, [ptsNumpy], True, (0,255,0), thickness=3)\n",
    "        cv2.imwrite(os.path.join(saveLocation, imgName), originalimg)"
   ]
  },
  {
   "cell_type": "code",
   "execution_count": 5,
   "id": "921a1294",
   "metadata": {},
   "outputs": [],
   "source": [
    "def segmentImageinFolder(saveLocation, XMLarray):\n",
    "    for singleXMLFile in XMLarray:\n",
    "        imgName = singleXMLFile[\"filename\"]\n",
    "        img = cv2.imread('./data/'+imgName)\n",
    "        drawOutLine(singleXMLFile, img, saveLocation, imgName)"
   ]
  },
  {
   "cell_type": "code",
   "execution_count": 6,
   "id": "4c00586b",
   "metadata": {},
   "outputs": [],
   "source": [
    "saveLocation = './Segmented Images' #the location to save the modified images\n",
    "folderPath = \"./data\" #this location should store all the xml files and the corresponding images\n",
    "allXMLinFolder = [] #this is the array that will store all the XML files in the 'data' folder\n",
    "\n",
    "handleFolder(folderPath, allXMLinFolder)\n",
    "segmentImageinFolder(saveLocation, allXMLinFolder)"
   ]
  }
 ],
 "metadata": {
  "kernelspec": {
   "display_name": "Python 3",
   "language": "python",
   "name": "python3"
  },
  "language_info": {
   "codemirror_mode": {
    "name": "ipython",
    "version": 3
   },
   "file_extension": ".py",
   "mimetype": "text/x-python",
   "name": "python",
   "nbconvert_exporter": "python",
   "pygments_lexer": "ipython3",
   "version": "3.8.10"
  }
 },
 "nbformat": 4,
 "nbformat_minor": 5
}
