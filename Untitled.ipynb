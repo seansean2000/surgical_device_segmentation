{
 "cells": [
  {
   "cell_type": "code",
   "execution_count": 44,
   "id": "9b9c0e42",
   "metadata": {},
   "outputs": [],
   "source": [
    "import xml.dom.minidom\n",
    "import os\n",
    "from os import listdir"
   ]
  },
  {
   "cell_type": "code",
   "execution_count": 2,
   "id": "13a5d274",
   "metadata": {},
   "outputs": [],
   "source": [
    "doc = xml.dom.minidom.parse(\"./data/aaaa0001_201901240002_00016210.xml\")"
   ]
  },
  {
   "cell_type": "code",
   "execution_count": 22,
   "id": "0822df19",
   "metadata": {},
   "outputs": [
    {
     "name": "stdout",
     "output_type": "stream",
     "text": [
      "Harmonic Scapel\n",
      "Fixation Forceps\n",
      "Fixation Forceps\n"
     ]
    }
   ],
   "source": [
    "for node in doc.getElementsByTagName(\"object\"):\n",
    "    print(node.getElementsByTagName(\"name\")[0].childNodes[0].data)\n",
    "    "
   ]
  },
  {
   "cell_type": "code",
   "execution_count": 24,
   "id": "fb2395d0",
   "metadata": {},
   "outputs": [
    {
     "name": "stdout",
     "output_type": "stream",
     "text": [
      "Harmonic Scapel\n",
      "Fixation Forceps\n",
      "Fixation Forceps\n"
     ]
    }
   ],
   "source": [
    "for node in :\n",
    "    print(node.getElementsByTagName(\"name\")[0].childNodes[0].data)"
   ]
  },
  {
   "cell_type": "code",
   "execution_count": 25,
   "id": "8ad7525e",
   "metadata": {},
   "outputs": [
    {
     "data": {
      "text/plain": [
       "[<DOM Element: object at 0x228132d3040>,\n",
       " <DOM Element: object at 0x228132d8ee0>,\n",
       " <DOM Element: object at 0x228132dcca0>]"
      ]
     },
     "execution_count": 25,
     "metadata": {},
     "output_type": "execute_result"
    }
   ],
   "source": [
    "doc.getElementsByTagName(\"object\")"
   ]
  },
  {
   "cell_type": "code",
   "execution_count": 31,
   "id": "7740f025",
   "metadata": {},
   "outputs": [
    {
     "data": {
      "text/plain": [
       "'20'"
      ]
     },
     "execution_count": 31,
     "metadata": {},
     "output_type": "execute_result"
    }
   ],
   "source": [
    "doc.getElementsByTagName(\"object\")[0].getElementsByTagName(\"id\")[0].childNodes[0].data\n"
   ]
  },
  {
   "cell_type": "code",
   "execution_count": 82,
   "id": "9d4075c9",
   "metadata": {},
   "outputs": [],
   "source": [
    "def handleObjectTag(objectElement):\n",
    "    dic = {}\n",
    "    dic[\"name\"] = objectElement.getElementsByTagName(\"name\")[0].childNodes[0].data\n",
    "    dic[\"id\"] = objectElement.getElementsByTagName(\"id\")[0].childNodes[0].data\n",
    "    dic[\"type\"] = objectElement.getElementsByTagName(\"type\")[0].childNodes[0].data\n",
    "    dic[\"clr\"] = objectElement.getElementsByTagName(\"clr\")[0].childNodes[0].data\n",
    "    dic[\"points\"] = getPoints(objectElement)\n",
    "    return dic\n",
    "\n",
    "def getPoints(objectElement):\n",
    "    points = []\n",
    "    for (x,y) in zip(objectElement.getElementsByTagName(\"points\")[0].getElementsByTagName(\"x\"), \n",
    "        objectElement.getElementsByTagName(\"points\")[0].getElementsByTagName(\"y\")):\n",
    "        points.append((float(x.childNodes[0].data), float(y.childNodes[0].data)))\n",
    "    \n",
    "    return points"
   ]
  },
  {
   "cell_type": "code",
   "execution_count": 83,
   "id": "d15f08db",
   "metadata": {},
   "outputs": [
    {
     "data": {
      "text/plain": [
       "{'name': 'Harmonic Scapel',\n",
       " 'id': '20',\n",
       " 'type': 'poly',\n",
       " 'clr': '#80004080',\n",
       " 'points': [(634.110429447853, 875.781818181818),\n",
       "  (799.018404907975, 970.036363636364),\n",
       "  (842.208588957055, 869.890909090909),\n",
       "  (895.21472392638, 832.581818181818),\n",
       "  (948.220858895706, 785.454545454546),\n",
       "  (979.631901840491, 738.327272727273),\n",
       "  (1054.23312883436, 663.709090909091),\n",
       "  (1111.16564417178, 614.618181818182),\n",
       "  (1183.8036809816, 516.436363636364),\n",
       "  (1213.25153374233, 441.818181818182),\n",
       "  (1195.58282208589, 408.436363636364),\n",
       "  (1166.13496932515, 394.690909090909),\n",
       "  (1124.90797546012, 418.254545454545),\n",
       "  (1052.26993865031, 520.363636363636),\n",
       "  (1011.04294478528, 565.527272727273),\n",
       "  (981.59509202454, 594.981818181818),\n",
       "  (952.147239263804, 616.581818181818),\n",
       "  (899.141104294479, 646.036363636364),\n",
       "  (855.950920245399, 675.490909090909),\n",
       "  (812.760736196319, 667.636363636364),\n",
       "  (746.01226993865, 724.581818181818),\n",
       "  (726.380368098159, 756.0),\n",
       "  (716.564417177914, 793.309090909091),\n",
       "  (683.19018404908, 838.472727272727)]}"
      ]
     },
     "execution_count": 83,
     "metadata": {},
     "output_type": "execute_result"
    }
   ],
   "source": [
    "handleObjectTag(doc.getElementsByTagName(\"object\")[0])"
   ]
  },
  {
   "cell_type": "code",
   "execution_count": 84,
   "id": "5d29f3b6",
   "metadata": {},
   "outputs": [],
   "source": [
    "def handleXmlAnnotation(xmlAnnotationPath):\n",
    "    doc = xml.dom.minidom.parse(xmlAnnotationPath)\n",
    "    objDics = []\n",
    "    for obj in doc.getElementsByTagName(\"object\"):\n",
    "        objDics.append( handleObjectTag(obj) )\n",
    "    return objDics"
   ]
  },
  {
   "cell_type": "code",
   "execution_count": 85,
   "id": "9dbcdbd4",
   "metadata": {},
   "outputs": [
    {
     "data": {
      "text/plain": [
       "[{'name': 'Harmonic Scapel',\n",
       "  'id': '20',\n",
       "  'type': 'poly',\n",
       "  'clr': '#80004080',\n",
       "  'points': [(634.110429447853, 875.781818181818),\n",
       "   (799.018404907975, 970.036363636364),\n",
       "   (842.208588957055, 869.890909090909),\n",
       "   (895.21472392638, 832.581818181818),\n",
       "   (948.220858895706, 785.454545454546),\n",
       "   (979.631901840491, 738.327272727273),\n",
       "   (1054.23312883436, 663.709090909091),\n",
       "   (1111.16564417178, 614.618181818182),\n",
       "   (1183.8036809816, 516.436363636364),\n",
       "   (1213.25153374233, 441.818181818182),\n",
       "   (1195.58282208589, 408.436363636364),\n",
       "   (1166.13496932515, 394.690909090909),\n",
       "   (1124.90797546012, 418.254545454545),\n",
       "   (1052.26993865031, 520.363636363636),\n",
       "   (1011.04294478528, 565.527272727273),\n",
       "   (981.59509202454, 594.981818181818),\n",
       "   (952.147239263804, 616.581818181818),\n",
       "   (899.141104294479, 646.036363636364),\n",
       "   (855.950920245399, 675.490909090909),\n",
       "   (812.760736196319, 667.636363636364),\n",
       "   (746.01226993865, 724.581818181818),\n",
       "   (726.380368098159, 756.0),\n",
       "   (716.564417177914, 793.309090909091),\n",
       "   (683.19018404908, 838.472727272727)]},\n",
       " {'name': 'Fixation Forceps',\n",
       "  'id': '14',\n",
       "  'type': 'poly',\n",
       "  'clr': '#80400000',\n",
       "  'points': [(0.0, 424.145454545455),\n",
       "   (343.558282208589, 337.745454545455),\n",
       "   (343.558282208589, 357.381818181818),\n",
       "   (298.40490797546, 378.981818181818),\n",
       "   (266.993865030675, 418.254545454545),\n",
       "   (90.3067484662577, 469.309090909091),\n",
       "   (60.8588957055215, 465.381818181818),\n",
       "   (31.4110429447853, 473.236363636364),\n",
       "   (0.0, 465.381818181818)]},\n",
       " {'name': 'Fixation Forceps',\n",
       "  'id': '14',\n",
       "  'type': 'poly',\n",
       "  'clr': '#80400000',\n",
       "  'points': [(3.92638036809816, 526.254545454545),\n",
       "   (1.96319018404908, 628.363636363636),\n",
       "   (408.343558282209, 518.4),\n",
       "   (416.196319018405, 506.618181818182),\n",
       "   (457.423312883436, 490.909090909091),\n",
       "   (473.128834355828, 490.909090909091),\n",
       "   (492.760736196319, 490.909090909091),\n",
       "   (551.656441717791, 467.345454545455),\n",
       "   (551.656441717791, 435.927272727273),\n",
       "   (512.39263803681, 430.036363636364),\n",
       "   (496.687116564417, 430.036363636364),\n",
       "   (467.239263803681, 441.818181818182),\n",
       "   (453.496932515337, 439.854545454545),\n",
       "   (431.901840490798, 441.818181818182),\n",
       "   (408.343558282209, 426.109090909091),\n",
       "   (373.006134969325, 441.818181818182),\n",
       "   (337.668711656442, 441.818181818182),\n",
       "   (288.588957055215, 449.672727272727),\n",
       "   (266.993865030675, 449.672727272727),\n",
       "   (243.435582822086, 447.709090909091),\n",
       "   (76.5644171779141, 502.690909090909),\n",
       "   (74.601226993865, 510.545454545455),\n",
       "   (25.521472392638, 530.181818181818)]}]"
      ]
     },
     "execution_count": 85,
     "metadata": {},
     "output_type": "execute_result"
    }
   ],
   "source": [
    "handleXmlAnnotation(\"./data/aaaa0001_201901240002_00016210.xml\")"
   ]
  },
  {
   "cell_type": "code",
   "execution_count": null,
   "id": "cc102f20",
   "metadata": {},
   "outputs": [],
   "source": []
  }
 ],
 "metadata": {
  "kernelspec": {
   "display_name": "Python 3",
   "language": "python",
   "name": "python3"
  },
  "language_info": {
   "codemirror_mode": {
    "name": "ipython",
    "version": 3
   },
   "file_extension": ".py",
   "mimetype": "text/x-python",
   "name": "python",
   "nbconvert_exporter": "python",
   "pygments_lexer": "ipython3",
   "version": "3.8.10"
  }
 },
 "nbformat": 4,
 "nbformat_minor": 5
}
